{
  "cells": [
    {
      "cell_type": "markdown",
      "metadata": {
        "id": "LJ8wBJAbwPqr"
      },
      "source": [
        "PRODUTO"
      ]
    },
    {
      "cell_type": "code",
      "execution_count": 34,
      "metadata": {
        "id": "FOx4a_iiwG7y"
      },
      "outputs": [],
      "source": [
        "def menup():\n",
        "  print(\"\"\"\n",
        "      Página Inicial - Produtos\n",
        "\n",
        "    1 - Cadastrar produto\n",
        "    2 - Atualizar produto\n",
        "    3 - Listar produto\n",
        "    4 - Excluir produto\n",
        "    0 - Sair\n",
        "\n",
        "  \"\"\")\n"
      ]
    },
    {
      "cell_type": "code",
      "source": [
        "def cadp(produtos):\n",
        "  id = input(\"Digite o indentificador do produto: \")\n",
        "  qtd = int(input(\"Digite a quantidade do produto no estoque: \"))\n",
        "  preco = input(\"Digite o preço do produto: \")\n",
        "  preco = preco.replace(\",\",\".\")\n",
        "  preco = float(preco)\n",
        "  prod_novo = {\"id\": id, \"quantidade\": qtd, \"preco\": preco}\n",
        "  produtos.append(prod_novo)"
      ],
      "metadata": {
        "id": "UXSQkzt7tBWR"
      },
      "execution_count": 72,
      "outputs": []
    },
    {
      "cell_type": "code",
      "source": [
        "def attp(produtos):\n",
        "  if not produtos:\n",
        "    print(\"Não existe nenhum produto cadastrado\")\n",
        "    return\n",
        "  ind = input(\"Digite o id do produto que deseja atualizar: \")\n",
        "  for produto in produtos:\n",
        "    if produto[\"id\"] == ind:\n",
        "      ask = int(input(\"O que você quer atualizar? 0 = quantidade, 1 = preço: \"))\n",
        "\n",
        "      if ask == 0:\n",
        "        produto[\"quantidade\"] = int(input(\"Digite a nova quantidade do produto: \"))\n",
        "      elif ask == 1:\n",
        "        preco = input(\"Digite o novo preço do produto: \")\n",
        "        preco = preco.replace(\",\", \".\")\n",
        "        produto[\"preco\"] = float(preco)\n",
        "      else:\n",
        "        print(\"Opção Inválida\")\n",
        "\n",
        "      print(\"Produto atualizado\")\n",
        "      return\n",
        "\n",
        "  print(\"Produto não encontrado\")"
      ],
      "metadata": {
        "id": "0EqBQdgatB2h"
      },
      "execution_count": 71,
      "outputs": []
    },
    {
      "cell_type": "code",
      "source": [
        "def lisp(produtos):\n",
        "    if not produtos:\n",
        "        print(\"Nenhum produto cadastrado\")\n",
        "        return\n",
        "\n",
        "    print(\"\\nLista de Produtos:\")\n",
        "    for produto in produtos:\n",
        "        print(f\"ID: {produto['id']}, Quantidade: {produto['quantidade']}, Preço: {produto['preco']:.2f}\")\n"
      ],
      "metadata": {
        "id": "jCGN3-DytCJQ"
      },
      "execution_count": 37,
      "outputs": []
    },
    {
      "cell_type": "code",
      "source": [
        "def delp(produtos):\n",
        "  if not produtos:\n",
        "    print(\"Não existe nenhum produto cadastrado\")\n",
        "    return\n",
        "  ind = input(\"Digite o id do produto que quer excluir: \")\n",
        "  for produto in produtos:\n",
        "    if produto[\"id\"] == ind:\n",
        "      ask = int(input(\"Tem certeza que quer apagar? 0 = sim, 1 = não: \"))\n",
        "      if ask == 0:\n",
        "        produtos.remove(produto)\n",
        "        print(f\"Produto com id\", {ind}, \"removido\")\n",
        "        return\n",
        "  print(\"Produto não encontrado\")"
      ],
      "metadata": {
        "id": "QZLqZp096cM8"
      },
      "execution_count": 70,
      "outputs": []
    },
    {
      "cell_type": "code",
      "source": [
        "def mainp():\n",
        "  global produtos\n",
        "  while True:\n",
        "    menup()\n",
        "    opcao = input(\"Digite uma opção: \")\n",
        "\n",
        "    if opcao == \"1\":\n",
        "      cadp(produtos)\n",
        "    elif opcao == \"2\":\n",
        "      attp(produtos)\n",
        "    elif opcao == \"3\":\n",
        "      lisp(produtos)\n",
        "    elif opcao == \"4\":\n",
        "      delp(produtos)\n",
        "    elif opcao == \"0\":\n",
        "      break\n",
        "    else:\n",
        "      print(\"Opção inválida\")\n",
        "\n",
        "\"\"\"mainp()\"\"\"\n"
      ],
      "metadata": {
        "id": "pwkwPohp8KBq",
        "colab": {
          "base_uri": "https://localhost:8080/",
          "height": 35
        },
        "outputId": "9aaada5b-63d3-4b5e-dcdc-05447b7f8f79"
      },
      "execution_count": 69,
      "outputs": [
        {
          "output_type": "execute_result",
          "data": {
            "text/plain": [
              "'mainp()'"
            ],
            "application/vnd.google.colaboratory.intrinsic+json": {
              "type": "string"
            }
          },
          "metadata": {},
          "execution_count": 69
        }
      ]
    },
    {
      "cell_type": "markdown",
      "source": [
        "FORNECEDOR"
      ],
      "metadata": {
        "id": "FrO8OzR7ru3D"
      }
    },
    {
      "cell_type": "code",
      "source": [
        "def menuf():\n",
        "  print(\"\"\"\n",
        "      Página inicial - Fornecedores\n",
        "\n",
        "      1 - Cadastrar Fornecedor\n",
        "      2 - Atualizar Fornecedor\n",
        "      3 - Listar Fornecedor\n",
        "      4 - Excluir Fornecedor\n",
        "      0 - Sair\n",
        "\n",
        "  \"\"\")\n"
      ],
      "metadata": {
        "id": "7imZs-8mUlyg"
      },
      "execution_count": 40,
      "outputs": []
    },
    {
      "cell_type": "code",
      "source": [
        "def cadf(Fornecedor):\n",
        "  Nome = input(\"Digite o nome do fornecedor: \")\n",
        "  Pfor = input(\"Digite o produto fornecido: \")\n",
        "  Fone = input(\"Digite o número de telefone: (81) 9\")\n",
        "  End = input(\"Digite o endereço do fornecedor: \")\n",
        "  Novf = {\"Nome\": Nome, \"Produto\": Pfor, \"Telefone\": Fone, \"Endereço\": End}\n",
        "  Fornecedor.append(Novf)"
      ],
      "metadata": {
        "id": "wRyzd0fJaD0d"
      },
      "execution_count": 68,
      "outputs": []
    },
    {
      "cell_type": "code",
      "source": [
        "def attf(Fornecedor):\n",
        "  if not Fornecedor:\n",
        "    print(\"Não existe nenhum fornecedor cadastrado\")\n",
        "    return\n",
        "  ind = input(\"Digite o Nome do Fornecedor que deseja atualizar: \")\n",
        "  for fornec in Fornecedor:\n",
        "    if fornec[\"Nome\"] == ind:\n",
        "      ask = int(input(\"O que você quer atualizar? 0 = Produto, 1 = Telefone, 2 = Endereço: \"))\n",
        "\n",
        "      if ask == 0:\n",
        "        fornec[\"Produto\"] = input(\"Digite o produto: \")\n",
        "      elif ask == 1:\n",
        "        fornec[\"Telefone\"] = input(\"Digite o novo número de telefone: \")\n",
        "      elif ask == 2:\n",
        "        fornec[\"Endereço\"]= input(\"Digite o novo endereço: \")\n",
        "      else:\n",
        "        print(\"Opção Inválida\")\n",
        "\n",
        "      print(\"Fornecedor atualizado\")\n",
        "      return\n",
        "\n",
        "  print(\"Fornecedor não encontrado\")"
      ],
      "metadata": {
        "id": "eokeVoNwbOfL"
      },
      "execution_count": 67,
      "outputs": []
    },
    {
      "cell_type": "code",
      "source": [
        "def lisf(Fornecedor):\n",
        "    if not Fornecedor:\n",
        "        print(\"Nenhum Fornecedor cadastrado\")\n",
        "        return\n",
        "\n",
        "    print(\"\\nLista de Fornecedor:\")\n",
        "    for fornec in Fornecedor:\n",
        "        print(f\"Nome: {fornec['Nome']}, Produto: {fornec['Produto']}, Telefone: {fornec['Telefone']}, Endereço: {fornec['Endereço']}\")\n"
      ],
      "metadata": {
        "id": "_qA8dUTjewz1"
      },
      "execution_count": 43,
      "outputs": []
    },
    {
      "cell_type": "code",
      "source": [
        "def delf(Fornecedor):\n",
        "  if not Fornecedor:\n",
        "    print(\"Não existe nenhum fornecedor cadastrado\")\n",
        "    return\n",
        "  ind = input(\"Digite o nome do fornecedor que quer excluir: \")\n",
        "  for fornec in Fornecedor:\n",
        "    if fornec[\"Nome\"] == ind:\n",
        "      ask = int(input(\"Tem certeza que quer apagar? 0 = sim, 1 = não: \"))\n",
        "      if ask == 0:\n",
        "        Fornecedor.remove(fornec)\n",
        "        print(f\"Fornecedor com nome\", {ind}, \"removido\")\n",
        "        return\n",
        "  print(\"Fornecedor não encontrado\")"
      ],
      "metadata": {
        "id": "gU3HS5YsG_zp"
      },
      "execution_count": 66,
      "outputs": []
    },
    {
      "cell_type": "code",
      "source": [
        "def mainf():\n",
        "  global Fornecedor\n",
        "  while True:\n",
        "    menuf()\n",
        "    opcao = input(\"Digite uma opção: \")\n",
        "\n",
        "    if opcao == \"1\":\n",
        "      cadf(Fornecedor)\n",
        "    elif opcao == \"2\":\n",
        "      attf(Fornecedor)\n",
        "    elif opcao == \"3\":\n",
        "      lisf(Fornecedor)\n",
        "    elif opcao == \"4\":\n",
        "      delf(Fornecedor)\n",
        "    elif opcao == \"0\":\n",
        "      break\n",
        "    else:\n",
        "      print(\"Opção inválida\")\n",
        "\n",
        "\"\"\"mainf()\"\"\"\n",
        "\n"
      ],
      "metadata": {
        "colab": {
          "base_uri": "https://localhost:8080/",
          "height": 35
        },
        "id": "TpFNsdlydE4p",
        "outputId": "3802a616-8e90-4c30-9d2d-6761ef019799"
      },
      "execution_count": 65,
      "outputs": [
        {
          "output_type": "execute_result",
          "data": {
            "text/plain": [
              "'mainf()'"
            ],
            "application/vnd.google.colaboratory.intrinsic+json": {
              "type": "string"
            }
          },
          "metadata": {},
          "execution_count": 65
        }
      ]
    },
    {
      "cell_type": "markdown",
      "source": [
        "MOVIMENTO DE ESTOQUE"
      ],
      "metadata": {
        "id": "85XSBGwJr2U6"
      }
    },
    {
      "cell_type": "code",
      "source": [
        "def menue():\n",
        "  print(\"\"\"\n",
        "      Menu de estoque\n",
        "\n",
        "    1 - Listar Fornecedores e produtos\n",
        "    2 - Verificar estoque do produto\n",
        "    3 - Comprar produto\n",
        "    4 - Relatórios de vendas\n",
        "    5 - Abrir outros menus\n",
        "    0 - Sair\n",
        "\n",
        "  \"\"\")"
      ],
      "metadata": {
        "id": "QmQzfxy87FQC"
      },
      "execution_count": 46,
      "outputs": []
    },
    {
      "cell_type": "code",
      "source": [
        "def lisfp():\n",
        "  if not produtos:\n",
        "        print(\"Nenhum produto cadastrado\")\n",
        "\n",
        "  print(\"\\nLista de Produtos:\")\n",
        "  for produto in produtos:\n",
        "        print(f\"ID: {produto['id']}, Quantidade: {produto['quantidade']}, Preço: {produto['preco']:.2f}\")\n",
        "\n",
        "  if not Fornecedor:\n",
        "        print(\"Nenhum Fornecedor cadastrado\")\n",
        "\n",
        "  print(\"\\nLista de Fornecedor:\")\n",
        "  for fornec in Fornecedor:\n",
        "        print(f\"Nome: {fornec['Nome']}, Produto: {fornec['Produto']}, Telefone: {fornec['Telefone']}, Endereço: {fornec['Endereço']}\")"
      ],
      "metadata": {
        "id": "EoPpCb9U9u9J"
      },
      "execution_count": 47,
      "outputs": []
    },
    {
      "cell_type": "code",
      "source": [
        "def verp():\n",
        "  if not produtos:\n",
        "    print(\"Não existe nenhum produto cadastrado\")\n",
        "    return\n",
        "  ind = input(\"Digite o Id do produto que você quer verificar o estoque: \")\n",
        "  for produto in produtos:\n",
        "    if produto[\"id\"] == ind:\n",
        "      if produto[\"quantidade\"] > 0:\n",
        "        print(f\"O produto com id de: '{produto['id']}' tem '{produto['quantidade']}' em estoque\" )\n",
        "      else:\n",
        "        print(\"Produto sem estoque\")\n",
        "      return\n",
        "  else:\n",
        "    print(\"Produto não encontrado\")"
      ],
      "metadata": {
        "id": "T-Oip436NwT5"
      },
      "execution_count": 64,
      "outputs": []
    },
    {
      "cell_type": "code",
      "source": [
        "def compp():\n",
        "  if not produtos:\n",
        "    print(\"Não existe nenhum produto cadastrado\")\n",
        "    return\n",
        "  ask = input(\"Digite o id do produto: \")\n",
        "  for produto in produtos:\n",
        "    if produto[\"id\"] == ask:\n",
        "      qtd = int(input(f\"Existem {produto['quantidade']} unidades do produto disponíveis, quanto você deseja comprar?: \"))\n",
        "      if qtd > int(produto[\"quantidade\"]):\n",
        "        print(\"Erro: Quantidade desejada maior que o estoque disponível.\")\n",
        "      else:\n",
        "        precio = qtd * produto['preco']\n",
        "        cmprdtl = {\n",
        "            \"id_do_produto\" : produto[\"id\"],\n",
        "            \"quantidade_comprada\" : qtd,\n",
        "            \"preço_da_venda\" : precio\n",
        "        }\n",
        "\n",
        "        vendas.append(cmprdtl)\n",
        "        produto['quantidade'] -= qtd\n",
        "        print(f\"Compra realizada com sucesso! Restam {produto['quantidade']} unidades.\")\n",
        "        return\n",
        "  print(\"Produto não cadastrado\")"
      ],
      "metadata": {
        "id": "y9AXD_Jo5C8k"
      },
      "execution_count": 63,
      "outputs": []
    },
    {
      "cell_type": "code",
      "source": [
        "def rele():\n",
        "  if not vendas:\n",
        "    print(\"Nenhuma venda cadastrada\")\n",
        "    return\n",
        "\n",
        "  print(\"/n\" , vendas)\n",
        "  for venda in vendas:\n",
        "    print(f\"ID do produto: {venda['id_do_produto']}, Quantidade comprada: {venda['quantidade_comprada']}, preço da venda: {venda['preço_da_venda']}\")\n",
        ""
      ],
      "metadata": {
        "id": "xh8RxAP8-DpC"
      },
      "execution_count": 50,
      "outputs": []
    },
    {
      "cell_type": "code",
      "source": [
        "produtos = []\n",
        "Fornecedor = []\n",
        "vendas = []\n",
        "\n",
        "def maine():\n",
        "  global relatorio\n",
        "  while True:\n",
        "    menue()\n",
        "    opcao = input(\"Digite uma opção: \")\n",
        "    if opcao == \"1\":\n",
        "      lisfp()\n",
        "    elif opcao == \"2\":\n",
        "      verp()\n",
        "    elif opcao == \"3\":\n",
        "      compp()\n",
        "    elif opcao == \"4\":\n",
        "      rele()\n",
        "    elif opcao == \"5\":\n",
        "      ask = input(\"Digite qual menu voce quer abrir: 0 - Produto, 1 - Fornecedor\")\n",
        "      if ask == \"0\":\n",
        "        mainp()\n",
        "      elif ask == \"1\":\n",
        "        mainf()\n",
        "    elif opcao == \"0\":\n",
        "      break\n",
        "    else:\n",
        "      print(\"Opção inválida\")\n",
        "\n",
        "maine()"
      ],
      "metadata": {
        "id": "kQ8i4h-c-Hbk"
      },
      "execution_count": null,
      "outputs": []
    }
  ],
  "metadata": {
    "colab": {
      "provenance": []
    },
    "kernelspec": {
      "display_name": "Python 3",
      "name": "python3"
    },
    "language_info": {
      "name": "python"
    }
  },
  "nbformat": 4,
  "nbformat_minor": 0
}